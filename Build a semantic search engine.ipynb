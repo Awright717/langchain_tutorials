{
 "cells": [
  {
   "cell_type": "code",
   "execution_count": null,
   "id": "c991b611-8a81-4d9d-b5cc-fc966ff6759f",
   "metadata": {},
   "outputs": [],
   "source": []
  }
 ],
 "metadata": {
  "kernelspec": {
   "display_name": "langchain_tutorial_env",
   "language": "python",
   "name": "langchain_tutorial_env"
  },
  "language_info": {
   "codemirror_mode": {
    "name": "ipython",
    "version": 3
   },
   "file_extension": ".py",
   "mimetype": "text/x-python",
   "name": "python",
   "nbconvert_exporter": "python",
   "pygments_lexer": "ipython3",
   "version": "3.12.6"
  }
 },
 "nbformat": 4,
 "nbformat_minor": 5
}
